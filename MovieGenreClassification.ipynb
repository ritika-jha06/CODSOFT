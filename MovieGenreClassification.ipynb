{
 "cells": [
  {
   "cell_type": "markdown",
   "id": "ef67a1a2-e057-4f4a-a086-60abb5ff6c12",
   "metadata": {},
   "source": [
    "# MOVIE GENRE"
   ]
  },
  {
   "cell_type": "code",
   "execution_count": null,
   "id": "68fdc9b7-7898-4e12-b22f-0259ce5d3d70",
   "metadata": {},
   "outputs": [],
   "source": [
    "!python -m pip install --upgrade pip\n"
   ]
  },
  {
   "cell_type": "code",
   "execution_count": null,
   "id": "53e47dd1-51fd-472b-a702-fea4fb4d3e60",
   "metadata": {},
   "outputs": [],
   "source": [
    "!pip install nltk\n",
    "!pip install string\n",
    "!pip install re"
   ]
  },
  {
   "cell_type": "code",
   "execution_count": null,
   "id": "d3152b72-901c-4251-b96d-523404f799b8",
   "metadata": {},
   "outputs": [],
   "source": [
    "import nltk\n",
    "import string\n",
    "import re\n",
    "\n",
    "import pandas as pd\n",
    "# import numpy as np\n",
    "import matplotlib.pyplot as plt\n",
    "import seaborn as sns\n",
    "\n",
    "from nltk.corpus import stopwords\n",
    "from nltk.tokenize import word_tokenize\n",
    "from nltk.stem import LancasterStemmer\n",
    "\n",
    "from sklearn.feature_extraction.text import TfidfVectorizer\n",
    "\n",
    "from sklearn.model_selection import train_test_split\n",
    "from sklearn.naive_bayes import MultinomialNB\n",
    "from sklearn.svm import SVC\n",
    "\n",
    "from sklearn.metrics import accuracy_score, classification_report"
   ]
  },
  {
   "cell_type": "markdown",
   "id": "d9e50c56-609f-4c85-a668-844c9fdc3ba5",
   "metadata": {},
   "source": [
    "# Data Collection and Processing\n",
    "IMDb began as a movie database on the Usenet group \"rec.arts.movies\" in 1990 and moved to the web in 1993.\n",
    "\n",
    "No. of Attributes: 4\n",
    "No. of Instances: 54214"
   ]
  },
  {
   "cell_type": "code",
   "execution_count": null,
   "id": "b5834e92-1ba0-45e2-a60b-a722c8a281dd",
   "metadata": {},
   "outputs": [],
   "source": [
    "# Training Data\n",
    "train_data = pd.read_csv('/kaggle/input/genre-classification-dataset-imdb/Genre Classification Dataset/train_data.txt', sep=':::', names=['Movie_title', 'Genre', 'Description'], engine='python') "
   ]
  },
  {
   "cell_type": "code",
   "execution_count": null,
   "id": "6d236ac4-6f9f-40a2-8462-cfac5760e406",
   "metadata": {},
   "outputs": [],
   "source": [
    "train_data.describe()"
   ]
  },
  {
   "cell_type": "code",
   "execution_count": null,
   "id": "d4ae7284-daca-4df2-8f21-41846e9ae783",
   "metadata": {},
   "outputs": [],
   "source": [
    "train_data.shape"
   ]
  },
  {
   "cell_type": "code",
   "execution_count": null,
   "id": "adb5c0bb-bcf2-4bc7-8d2d-b2baaed1898a",
   "metadata": {},
   "outputs": [],
   "source": [
    "train_data.info()"
   ]
  },
  {
   "cell_type": "code",
   "execution_count": null,
   "id": "5eaa27e8-3fad-4515-ba98-859278f3c24b",
   "metadata": {},
   "outputs": [],
   "source": [
    "train_data.head(10)"
   ]
  },
  {
   "cell_type": "code",
   "execution_count": null,
   "id": "ba040fa5-f35f-451d-94a7-59c26311aae6",
   "metadata": {},
   "outputs": [],
   "source": [
    "train_data.isnull().sum()"
   ]
  },
  {
   "cell_type": "code",
   "execution_count": null,
   "id": "bb46365d-c82c-4fde-973a-7cac35e24e38",
   "metadata": {},
   "outputs": [],
   "source": [
    "# Test data\n",
    "\n",
    "test_path = \"/kaggle/input/genre-classification-dataset-imdb/Genre Classification Dataset/test_data.txt\"\n",
    "test_data = pd.read_csv(test_path, sep=':::', names=['Id', 'Movie_title', 'Description'], engine='python')\n",
    "test_data.head()"
   ]
  },
  {
   "cell_type": "markdown",
   "id": "3f6c9a58-2a4b-4ee9-8d3a-d591d079106b",
   "metadata": {},
   "source": [
    "# Exploratory Data Analysis (EDA) & Data Visualization"
   ]
  },
  {
   "cell_type": "code",
   "execution_count": null,
   "id": "33a5967b-5ddc-4351-8f83-9fcb41e00e89",
   "metadata": {},
   "outputs": [],
   "source": [
    "# distribution of genres in training data\n",
    "plt.figure(figsize=(10,10))\n",
    "sns.countplot(data=train_data,order= train_data[\"Genre\"].value_counts().index,y=\"Genre\")\n",
    "plt.title(\"Genre Distribution\")"
   ]
  },
  {
   "cell_type": "markdown",
   "id": "273ad329-ae34-4001-a7df-1c694940fa45",
   "metadata": {},
   "source": [
    "# Data Preprocessing and Text Cleaning"
   ]
  },
  {
   "cell_type": "code",
   "execution_count": null,
   "id": "5899f3ae-1236-4ddd-b111-941a561b8e30",
   "metadata": {},
   "outputs": [],
   "source": [
    "stemmer = LancasterStemmer()\n",
    "stop_words=stopwords.words(\"english\")\n",
    "\n",
    "# Define the clean_text function\n",
    "def clean_text(text):\n",
    "    text = text.lower()  # Lowercase all characters\n",
    "    text = re.sub(r'@\\S+', '', text)  # Remove Twitter handles and email addresses\n",
    "    text = re.sub(r'http\\S+', '', text)  # Remove URLs\n",
    "    text = re.sub(r'pic.\\S+', '', text)\n",
    "    text = re.sub(r\"[^a-zA-Z+']\", ' ', text)  # Remove special characters\n",
    "    text = re.sub(r'\\s+[a-zA-Z]\\s+', ' ', text + ' ')  # Keep words with length > 1 only\n",
    "    text = \"\".join([i for i in text if i not in string.punctuation])\n",
    "    words = nltk.word_tokenize(text) #tokenize text\n",
    "    stopwords = nltk.corpus.stopwords.words('english')  # Remove stopwords\n",
    "    text = \" \".join([i for i in words if i not in stopwords and len(i) > 2])\n",
    "    text = re.sub(\"\\s[\\s]+\", \" \", text).strip()  # Remove multiple spaces\n",
    "    return text\n",
    "\n",
    "# Apply the clean_text function to the 'Description' column in the training and test data\n",
    "train_data['New_text'] = train_data['Description'].apply(clean_text)\n",
    "test_data['New_text'] = test_data['Description'].apply(clean_text)"
   ]
  },
  {
   "cell_type": "code",
   "execution_count": null,
   "id": "9f971ef1-8b5e-4a90-8628-c2373210cfe3",
   "metadata": {},
   "outputs": [],
   "source": [
    "test_data.head()"
   ]
  },
  {
   "cell_type": "code",
   "execution_count": null,
   "id": "a0225925-5bb7-4652-89cc-c2f20c662bd0",
   "metadata": {},
   "outputs": [],
   "source": [
    "tfidf = TfidfVectorizer()\n",
    "X_train = tfidf.fit_transform(train_data['New_text'])\n",
    "X_test = tfidf.transform(test_data['New_text'])"
   ]
  },
  {
   "cell_type": "code",
   "execution_count": null,
   "id": "bc95a7f5-2fc5-45cd-9605-2dea59fd5465",
   "metadata": {},
   "outputs": [],
   "source": [
    "# training and validation sets\n",
    "X = X_train\n",
    "y = train_data['Genre']\n",
    "X_train, X_val, y_train, y_val = train_test_split(X, y, test_size=0.2, random_state=0)"
   ]
  },
  {
   "cell_type": "markdown",
   "id": "4d46f261-fcb3-4715-b2d0-e258da76fef1",
   "metadata": {},
   "source": [
    "# Model Training & Evaluation"
   ]
  },
  {
   "cell_type": "code",
   "execution_count": null,
   "id": "e93dbb1e-f295-4416-8749-6cc59e751f00",
   "metadata": {},
   "outputs": [],
   "source": [
    "nb = MultinomialNB()\n",
    "nb.fit(X_train, y_train)"
   ]
  },
  {
   "cell_type": "code",
   "execution_count": null,
   "id": "ecde80e0-5385-44b5-be16-a371bcc9a220",
   "metadata": {},
   "outputs": [],
   "source": [
    "y_pred = nb.predict(X_val) "
   ]
  },
  {
   "cell_type": "code",
   "execution_count": null,
   "id": "60352e06-7f56-4fcb-9af8-7c7c41e70d66",
   "metadata": {},
   "outputs": [],
   "source": [
    "accuracy = accuracy_score(y_val, y_pred)\n",
    "print(\"Validation Accuracy:\", accuracy)"
   ]
  },
  {
   "cell_type": "code",
   "execution_count": null,
   "id": "667b4e43-63a6-4bcb-a747-52649d6f770b",
   "metadata": {},
   "outputs": [],
   "source": [
    "print(classification_report(y_val, y_pred))"
   ]
  },
  {
   "cell_type": "markdown",
   "id": "405a37dc-6258-4762-977e-01a743877a97",
   "metadata": {},
   "source": [
    "# Predictions on Test Dataset"
   ]
  },
  {
   "cell_type": "code",
   "execution_count": null,
   "id": "8da1b7c5-8b74-4e22-8200-3cb008bc08f6",
   "metadata": {},
   "outputs": [],
   "source": [
    "# Use the trained model to make predictions on the test data\n",
    "X_test_predictions = nb.predict(X_test)\n",
    "test_data['Predicted_Genre'] = X_test_predictions"
   ]
  },
  {
   "cell_type": "code",
   "execution_count": null,
   "id": "3ee4d131-68e0-4656-b557-5ada7c0b34ef",
   "metadata": {},
   "outputs": [],
   "source": [
    "# Save the test_data DataFrame with predicted genres to a CSV file\n",
    "test_data.to_csv('predicted_genres.csv', index=False)\n",
    "\n",
    "# Display the 'test_data' DataFrame with predicted genres\n",
    "print(test_data)"
   ]
  }
 ],
 "metadata": {
  "kernelspec": {
   "display_name": "Python 3 (ipykernel)",
   "language": "python",
   "name": "python3"
  },
  "language_info": {
   "codemirror_mode": {
    "name": "ipython",
    "version": 3
   },
   "file_extension": ".py",
   "mimetype": "text/x-python",
   "name": "python",
   "nbconvert_exporter": "python",
   "pygments_lexer": "ipython3",
   "version": "3.12.3"
  }
 },
 "nbformat": 4,
 "nbformat_minor": 5
}
